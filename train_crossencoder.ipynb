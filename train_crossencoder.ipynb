{
 "cells": [
  {
   "cell_type": "code",
   "execution_count": null,
   "metadata": {
    "vscode": {
     "languageId": "plaintext"
    }
   },
   "outputs": [],
   "source": [
    "!pip install requests tqdm"
   ]
  },
  {
   "cell_type": "code",
   "execution_count": null,
   "metadata": {
    "vscode": {
     "languageId": "plaintext"
    }
   },
   "outputs": [],
   "source": [
    "import requests\n",
    "from tqdm import tqdm\n",
    "import json\n",
    "\n",
    "GITHUB_API_URL = 'https://api.github.com/search/repositories'\n",
    "GITHUB_README_URL = 'https://api.github.com/repos/{}/readme'\n",
    "\n",
    "# GitHub API 토큰 설정\n",
    "GITHUB_TOKEN = '' \n",
    "\n",
    "headers = {\n",
    "    'Accept': 'application/vnd.github.v3+json',\n",
    "    'Authorization': f'token {GITHUB_TOKEN}'\n",
    "}\n",
    "\n",
    "def search_github_repositories(query, max_repos=100):\n",
    "    repositories = []\n",
    "    page = 1\n",
    "    while len(repositories) < max_repos:\n",
    "        params = {\n",
    "            'q': query,\n",
    "            'sort': 'stars',\n",
    "            'order': 'desc',\n",
    "            'per_page': 100,\n",
    "            'page': page\n",
    "        }\n",
    "        response = requests.get(GITHUB_API_URL, headers=headers, params=params)\n",
    "        if response.status_code != 200:\n",
    "            print(f'Error fetching repositories: {response.status_code}')\n",
    "            break\n",
    "        data = response.json()\n",
    "        items = data.get('items', [])\n",
    "        if not items:\n",
    "            break\n",
    "        repositories.extend(items)\n",
    "        page += 1\n",
    "    return repositories[:max_repos]\n",
    "\n",
    "def get_readme(repo_full_name):\n",
    "    url = GITHUB_README_URL.format(repo_full_name)\n",
    "    response = requests.get(url, headers={'Accept': 'application/vnd.github.v3.raw', 'Authorization': f'token {GITHUB_TOKEN}'})\n",
    "    if response.status_code == 200:\n",
    "        return response.text\n",
    "    else:\n",
    "        return None"
   ]
  },
  {
   "cell_type": "code",
   "execution_count": null,
   "metadata": {
    "vscode": {
     "languageId": "plaintext"
    }
   },
   "outputs": [],
   "source": [
    "import re\n",
    "\n",
    "def clean_readme(readme_text):\n",
    "    # README 텍스트에서 이미지, 링크, 뱃지 등을 제거\n",
    "    readme_text = re.sub(r'!\\[.*?\\]\\(.*?\\)', '', readme_text)\n",
    "    readme_text = re.sub(r'<img[^>]*>', '', readme_text)\n",
    "    readme_text = re.sub(r'\\[.*?\\]\\(.*?\\)', '', readme_text)\n",
    "    readme_text = re.sub(r'image:[^\\s]+\\[[^\\]]*\\]', '', readme_text)\n",
    "    readme_text = re.sub(r'http[s]?://\\S+', '', readme_text)\n",
    "    readme_text = re.sub(r'\\[!\\[.*?\\]\\(.*?\\)\\]', '', readme_text)\n",
    "    readme_text = re.sub(r'\\s+', ' ', readme_text).strip()\n",
    "    \n",
    "    return readme_text\n"
   ]
  },
  {
   "cell_type": "code",
   "execution_count": null,
   "metadata": {
    "vscode": {
     "languageId": "plaintext"
    }
   },
   "outputs": [],
   "source": [
    "# 관련 상위 max_repos개 리포지토리의 README 수집\n",
    "query = 'spring framework'\n",
    "max_repos = 50  #수정필요\n",
    "\n",
    "repositories = search_github_repositories(query, max_repos)\n",
    "\n",
    "readme_data = []\n",
    "\n",
    "for repo in tqdm(repositories):\n",
    "    full_name = repo['full_name']\n",
    "    readme = get_readme(full_name)\n",
    "    if readme:\n",
    "        cleaned_readme = clean_readme(readme)\n",
    "        if cleaned_readme: \n",
    "            readme_data.append({\n",
    "                'repo_name': full_name,\n",
    "                'readme': cleaned_readme\n",
    "            })\n",
    "\n",
    "print(f'총 {len(readme_data)}개의 README를 수집')\n"
   ]
  },
  {
   "cell_type": "code",
   "execution_count": null,
   "metadata": {
    "vscode": {
     "languageId": "plaintext"
    }
   },
   "outputs": [],
   "source": [
    "# 전체 readme_data 출력\n",
    "for i, item in enumerate(readme_data):\n",
    "    print(f\"=== Repository {i+1} ===\")\n",
    "    print(f\"Repo Name: {item['repo_name']}\")\n",
    "    print(f\"README Content (Preview): {item['readme'][:500]}...\")  \n",
    "    print(\"=\" * 50)\n"
   ]
  },
  {
   "cell_type": "code",
   "execution_count": null,
   "metadata": {
    "vscode": {
     "languageId": "plaintext"
    }
   },
   "outputs": [],
   "source": [
    "!pip install transformers sentencepiece"
   ]
  },
  {
   "cell_type": "code",
   "execution_count": null,
   "metadata": {
    "vscode": {
     "languageId": "plaintext"
    }
   },
   "outputs": [],
   "source": [
    "from transformers import T5ForConditionalGeneration, T5Tokenizer\n",
    "import torch\n",
    "\n",
    "tokenizer = T5Tokenizer.from_pretrained('t5-base')\n",
    "t5_model = T5ForConditionalGeneration.from_pretrained('t5-base')\n",
    "\n",
    "device = torch.device('cuda' if torch.cuda.is_available() else 'cpu')\n",
    "t5_model = t5_model.to(device)\n",
    "\n",
    "# T5모델로 query 생성하는 함수\n",
    "def generate_query(document_text, max_length=64):\n",
    "    input_text = \"Generate a search query for the following document: \" + document_text\n",
    "    inputs = tokenizer.encode(input_text, return_tensors='pt', max_length=512, truncation=True).to(device)\n",
    "\n",
    "    outputs = t5_model.generate(\n",
    "        inputs, \n",
    "        max_length=max_length, \n",
    "        num_beams=5, \n",
    "        early_stopping=True, \n",
    "        num_return_sequences=1\n",
    "    )\n",
    "    query = tokenizer.decode(outputs[0], skip_special_tokens=True)\n",
    "    \n",
    "    return query\n"
   ]
  },
  {
   "cell_type": "code",
   "execution_count": null,
   "metadata": {
    "vscode": {
     "languageId": "plaintext"
    }
   },
   "outputs": [],
   "source": [
    "# 데이터셋 생성\n",
    "dataset = []\n",
    "for data in tqdm(readme_data):\n",
    "    readme = data['readme']  \n",
    "    query = generate_query(readme)\n",
    "    dataset.append({\n",
    "        'query': query,\n",
    "        'document': readme,\n",
    "        'label': 1.0  \n",
    "    })\n",
    "\n",
    "print(f'총 {len(dataset)}개의 쿼리-문서 쌍이 생성')\n",
    "\n",
    "# 출력 확인\n",
    "for i, item in enumerate(dataset):\n",
    "    print(f\"=== Data Pair {i+1} ===\")\n",
    "    print(f\"Query: {item['query']}\")\n",
    "    print(f\"Document: {item['document'][:500]}...\") \n",
    "    print(f\"Label: {item['label']}\")\n",
    "    print(\"=\" * 50)\n"
   ]
  },
  {
   "cell_type": "code",
   "execution_count": null,
   "metadata": {
    "vscode": {
     "languageId": "plaintext"
    }
   },
   "outputs": [],
   "source": [
    "from transformers import AutoModelForSequenceClassification, AutoTokenizer, AdamW\n",
    "from torch.utils.data import DataLoader, Dataset\n",
    "import torch\n",
    "from sklearn.model_selection import train_test_split\n",
    "from tqdm import tqdm\n",
    "\n",
    "class CrossEncoderDataset(Dataset):\n",
    "    def __init__(self, data, tokenizer, max_length=512):\n",
    "        self.data = data\n",
    "        self.tokenizer = tokenizer\n",
    "        self.max_length = max_length\n",
    "\n",
    "    def __len__(self):\n",
    "        return len(self.data)\n",
    "\n",
    "    def __getitem__(self, idx):\n",
    "        query = self.data[idx]['query']\n",
    "        document = self.data[idx]['document']\n",
    "        label = self.data[idx].get('label', 0.0)  \n",
    "        \n",
    "        encoding = self.tokenizer(\n",
    "            query,\n",
    "            document,\n",
    "            truncation=True,\n",
    "            max_length=self.max_length,\n",
    "            padding='max_length',\n",
    "            return_tensors='pt'\n",
    "        )\n",
    "        return {\n",
    "            'input_ids': encoding['input_ids'].squeeze(0),\n",
    "            'attention_mask': encoding['attention_mask'].squeeze(0),\n",
    "            'label': torch.tensor(label, dtype=torch.float)\n",
    "        }\n"
   ]
  },
  {
   "cell_type": "code",
   "execution_count": null,
   "metadata": {
    "vscode": {
     "languageId": "plaintext"
    }
   },
   "outputs": [],
   "source": [
    "model_name = \"cross-encoder/ms-marco-MiniLM-L-6-v2\"\n",
    "tokenizer = AutoTokenizer.from_pretrained(model_name)\n",
    "cross_encoder = AutoModelForSequenceClassification.from_pretrained(model_name, num_labels=1)\n",
    "\n",
    "# 데이터셋 준비\n",
    "train_data, val_data = train_test_split(dataset, test_size=0.2, random_state=42)\n",
    "\n",
    "train_dataset = CrossEncoderDataset(train_data, tokenizer)\n",
    "val_dataset = CrossEncoderDataset(val_data, tokenizer)\n",
    "\n",
    "train_loader = DataLoader(train_dataset, batch_size=8, shuffle=True)\n",
    "val_loader = DataLoader(val_dataset, batch_size=8)\n",
    "\n",
    "optimizer = AdamW(cross_encoder.parameters(), lr=5e-5)\n",
    "cross_encoder = cross_encoder.to(device)\n",
    "\n",
    "# 파인튜닝\n",
    "epochs = 2 #수정필요\n",
    "for epoch in range(epochs):\n",
    "    print(f\"Epoch {epoch + 1}/{epochs}\")\n",
    "    cross_encoder.train()\n",
    "    train_loss = 0\n",
    "    for batch in tqdm(train_loader, desc=\"Training\"):\n",
    "        optimizer.zero_grad()\n",
    "        input_ids = batch['input_ids'].to(device)\n",
    "        attention_mask = batch['attention_mask'].to(device)\n",
    "        labels = batch['label'].unsqueeze(1).to(device)\n",
    "        \n",
    "        outputs = cross_encoder(input_ids, attention_mask=attention_mask, labels=labels)\n",
    "        loss = outputs.loss\n",
    "        train_loss += loss.item()\n",
    "        loss.backward()\n",
    "        optimizer.step()\n",
    "    print(f\"Training Loss: {train_loss / len(train_loader)}\")\n",
    "    \n",
    "    # Validation\n",
    "    cross_encoder.eval()\n",
    "    val_loss = 0\n",
    "    with torch.no_grad():\n",
    "        for batch in tqdm(val_loader, desc=\"Validation\"):\n",
    "            input_ids = batch['input_ids'].to(device)\n",
    "            attention_mask = batch['attention_mask'].to(device)\n",
    "            labels = batch['label'].unsqueeze(1).to(device)\n",
    "            \n",
    "            outputs = cross_encoder(input_ids, attention_mask=attention_mask, labels=labels)\n",
    "            loss = outputs.loss\n",
    "            val_loss += loss.item()\n",
    "    print(f\"Validation Loss: {val_loss / len(val_loader)}\")\n"
   ]
  },
  {
   "cell_type": "code",
   "execution_count": null,
   "metadata": {
    "vscode": {
     "languageId": "plaintext"
    }
   },
   "outputs": [],
   "source": [
    "# 테스트\n",
    "#수정필요\n",
    "test_queries = [\n",
    "    {\"query\": \"Spring Framework\", \"document\": \"This is the machine learning project\"},\n",
    "    {\"query\": \"Spring Framework\", \"document\": \"This project is made by spring framework\"}\n",
    "]\n",
    "\n",
    "test_dataset = CrossEncoderDataset(test_queries, tokenizer)\n",
    "test_loader = DataLoader(test_dataset, batch_size=1)\n",
    "\n",
    "cross_encoder.eval()\n",
    "for batch in tqdm(test_loader, desc=\"Testing\"):\n",
    "    input_ids = batch['input_ids'].to(device)\n",
    "    attention_mask = batch['attention_mask'].to(device)\n",
    "    with torch.no_grad():\n",
    "        outputs = cross_encoder(input_ids, attention_mask=attention_mask)\n",
    "        scores = outputs.logits.squeeze(-1).cpu().numpy()\n",
    "        print(f\"Score: {scores}\")"
   ]
  }
 ],
 "metadata": {
  "language_info": {
   "name": "python"
  }
 },
 "nbformat": 4,
 "nbformat_minor": 2
}
